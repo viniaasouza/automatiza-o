{
 "cells": [
  {
   "cell_type": "code",
   "execution_count": 50,
   "id": "ce2bffd2",
   "metadata": {},
   "outputs": [],
   "source": [
    "from selenium import webdriver\n",
    "from webdriver_manager.chrome import ChromeDriverManager\n",
    "from selenium.webdriver.chrome.service import Service\n",
    "from selenium.webdriver.common.keys import Keys\n",
    "import time\n",
    "#web drive manager me ajuda não bugar o código com uma atualização do navegador.\n",
    "\n",
    "service = Service(ChromeDriverManager().install())\n",
    "\n",
    "navegador = webdriver.Chrome(service=service)"
   ]
  },
  {
   "cell_type": "code",
   "execution_count": 51,
   "id": "e7fd3e28",
   "metadata": {
    "scrolled": true
   },
   "outputs": [],
   "source": [
    "navegador.get(\"https://lifeboxburger.vucasolution.com.br/retaguarda/\")\n",
    "\n",
    "cpf = \"04225419150\"\n",
    "navegador.find_element('xpath', '//*[@id=\"login\"]/form/dl[1]/dd/input').send_keys(cpf)\n",
    "navegador.find_element('xpath', '//*[@id=\"login\"]/form/dl[2]/dd/input').send_keys(102030)\n",
    "navegador.find_element('xpath', '//*[@id=\"login\"]/form/dl[3]/dd/button').click()"
   ]
  },
  {
   "cell_type": "code",
   "execution_count": 52,
   "id": "5e9049e1",
   "metadata": {},
   "outputs": [],
   "source": [
    "navegador.find_element('xpath', '/html/body/header/section[3]/div[1]/a').click()\n",
    "navegador.find_element('xpath', '/html/body/header/section[3]/div[1]/div/ul/li[3]/a').click()\n",
    "\n",
    "#aqui estou selecionando clientes do tipo \"MESA\"\n",
    "navegador.find_element('xpath', '//*[@id=\"conteudo\"]/div[4]/form/div[1]/dl[5]/dd/select').click()\n",
    "navegador.find_element('xpath', '//*[@id=\"conteudo\"]/div[4]/form/div[1]/dl[5]/dd/select/option[2]').click()\n",
    "navegador.find_element('xpath', '//*[@id=\"conteudo\"]/div[4]/form/div[3]/dl[3]/dd/button[1]').click()\n"
   ]
  },
  {
   "cell_type": "code",
   "execution_count": null,
   "id": "6c585b5d",
   "metadata": {},
   "outputs": [],
   "source": []
  }
 ],
 "metadata": {
  "kernelspec": {
   "display_name": "Python 3 (ipykernel)",
   "language": "python",
   "name": "python3"
  },
  "language_info": {
   "codemirror_mode": {
    "name": "ipython",
    "version": 3
   },
   "file_extension": ".py",
   "mimetype": "text/x-python",
   "name": "python",
   "nbconvert_exporter": "python",
   "pygments_lexer": "ipython3",
   "version": "3.9.12"
  }
 },
 "nbformat": 4,
 "nbformat_minor": 5
}
